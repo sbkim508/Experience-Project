{
 "cells": [
  {
   "cell_type": "markdown",
   "id": "cloudy-rating",
   "metadata": {},
   "source": [
    "# [Part1] 마켓컬리 상품리뷰 크롤링"
   ]
  },
  {
   "cell_type": "markdown",
   "id": "pregnant-fishing",
   "metadata": {},
   "source": [
    "## 설명\n",
    "- 1. '인기상품순' 이동\n",
    "- 2. 상품명, 부연설명, 가격, 해당 URL 링크 크롤링\n",
    "- 3. 후기 크롤링 1000개씩 (for) // 1페이지는 공지사항있음, 2페이지부터 // 700 개 * 300\n",
    "- 4. 상품명 별 크롤링 1000개씩 데이터프레임 저장\n",
    "- 5. csv로 저장(상품명, 부연설명, 가격, 해당 URL, 상품리뷰)"
   ]
  },
  {
   "cell_type": "markdown",
   "id": "focused-judge",
   "metadata": {},
   "source": [
    "# 1. 환경 설정"
   ]
  },
  {
   "cell_type": "code",
   "execution_count": 1,
   "id": "assumed-mount",
   "metadata": {},
   "outputs": [],
   "source": [
    "from selenium import webdriver \n",
    "from selenium.webdriver import ActionChains \n",
    "import time\n",
    "from selenium.webdriver.common.by import By\n",
    "import pandas as pd\n",
    "import numpy as np\n",
    "from bs4 import BeautifulSoup\n",
    "\n",
    "driver = webdriver.Chrome() \n",
    "driver.set_window_size(1500, 800)\n",
    "\n",
    "# 1. 사이트 접속\n",
    "driver.get('https://www.kurly.com/shop/goods/goods_list.php?category=029')\n",
    "time.sleep(4) #로딩 대기\n",
    "\n",
    "# 2. '인기상품순' 클릭 \n",
    "driver.find_element_by_css_selector('#goodsList > div.list_ability > div > div > div > ul > li:nth-child(3) > a').click()"
   ]
  },
  {
   "cell_type": "markdown",
   "id": "mechanical-trader",
   "metadata": {},
   "source": [
    "# 2. 인기상품군(280여건) 의 상품정보 크롤링 "
   ]
  },
  {
   "cell_type": "markdown",
   "id": "laden-course",
   "metadata": {},
   "source": [
    "#### 2.1) 상품명, 상품가격, 상품설명, 제품코드 함수생성"
   ]
  },
  {
   "cell_type": "code",
   "execution_count": 2,
   "id": "premier-packet",
   "metadata": {
    "scrolled": true
   },
   "outputs": [],
   "source": [
    "## 1. 상품명, 상품가격, 상품설명 크롤링\n",
    "def get_product_info():\n",
    "    product_info = driver.find_elements(By.CLASS_NAME, \"info\")\n",
    "    for product_list in product_info:\n",
    "\n",
    "        # 할인 가격 시 밀리는 현상 발생\n",
    "        if (\"%\" in product_list.text.split('\\n')[1]):\n",
    "            ## 상품명\n",
    "            product_name = product_list.text.split('\\n')[0]\n",
    "            product_dict['product_name'].append(product_name)\n",
    "\n",
    "            ## 상품가격\n",
    "            product_price = product_list.text.split('\\n')[2]\n",
    "            product_dict['product_price'].append(product_price)\n",
    "\n",
    "            ## 상품설명이 없는 경우도 있음.\n",
    "            try:\n",
    "                product_content = product_list.text.split('\\n')[3]\n",
    "                product_dict['product_content'].append(product_content)\n",
    "            except:\n",
    "                product_content = 'NA'\n",
    "                product_dict['product_content'].append(product_content)\n",
    "                pass\n",
    "\n",
    "        else:            \n",
    "            # 상품명\n",
    "            product_name = product_list.text.split('\\n')[0]\n",
    "            product_dict['product_name'].append(product_name)\n",
    "\n",
    "            # 상품가격\n",
    "            product_price = product_list.text.split('\\n')[1]\n",
    "            product_dict['product_price'].append(product_price)\n",
    "\n",
    "            # 상품설명\n",
    "            product_content = product_list.text.split('\\n')[2]\n",
    "            product_dict['product_content'].append(product_content)\n",
    "            \n",
    "        \n",
    "## 2. 해당 제품코드 크롤링\n",
    "def get_product_id():\n",
    "    \n",
    "    html = driver.page_source\n",
    "    soup = BeautifulSoup(html, 'html.parser')\n",
    "    contents = soup.select('div.group_btn')\n",
    "\n",
    "    for p_tag in contents:\n",
    "        try:\n",
    "            # 제품코드\n",
    "            product_list.append(int(p_tag.text))\n",
    "        except:\n",
    "            pass"
   ]
  },
  {
   "cell_type": "markdown",
   "id": "disciplinary-spirituality",
   "metadata": {},
   "source": [
    "#### 2.2) 상품 정보 크롤링 실행"
   ]
  },
  {
   "cell_type": "code",
   "execution_count": 3,
   "id": "purple-scanner",
   "metadata": {
    "scrolled": true
   },
   "outputs": [
    {
     "name": "stdout",
     "output_type": "stream",
     "text": [
      "279\n",
      "279\n"
     ]
    }
   ],
   "source": [
    "# 설정\n",
    "product_list = []\n",
    "product_dict = {'product_name':[], 'product_price' : [], 'product_content' : []}\n",
    "\n",
    "\n",
    "# 1번째 페이지 실행 \n",
    "get_product_id()\n",
    "get_product_info()\n",
    "    \n",
    "# 2번쨰 페이지 클릭\n",
    "driver.find_element_by_css_selector('#goodsList > div.layout-pagination > div > span:nth-child(4) > a').click()\n",
    "time.sleep(2)\n",
    "get_product_id()\n",
    "get_product_info()\n",
    "\n",
    "# 3번째 페이지 클릭\n",
    "driver.find_element_by_css_selector('#goodsList > div.layout-pagination > div > span:nth-child(5) > a').click()\n",
    "time.sleep(2)\n",
    "get_product_id()\n",
    "get_product_info()\n",
    "print(\"제품코드 갯수 : \", len(product_list))\n",
    "\n",
    "# Product_id + URL 작업\n",
    "review_url = []\n",
    "for product_url in product_list:\n",
    "    concat_url = \"https://www.kurly.com/shop/goods/goods_review_list.php?goodsno=\" + str(product_url) + \"&page=\"\n",
    "    review_url.append(concat_url)\n",
    "\n",
    "# 품절된 상품은 크롤링 되지 않으므로, 상태에 맞춰 변경 필요\n",
    "prodcut_df = pd.DataFrame.from_dict(product_dict)[:-8] # 8개의 상품 품절 상태\n",
    "prodcut_df['product_code'] = product_list\n",
    "prodcut_df['product_url'] = review_url"
   ]
  },
  {
   "cell_type": "markdown",
   "id": "south-priority",
   "metadata": {},
   "source": [
    "# 3. 인기상품군의 상품리뷰 크롤링 "
   ]
  },
  {
   "cell_type": "markdown",
   "id": "different-armor",
   "metadata": {},
   "source": [
    "#### 3.1) 해당 상품평 크롤링 과정"
   ]
  },
  {
   "cell_type": "code",
   "execution_count": 10,
   "id": "hired-desperate",
   "metadata": {},
   "outputs": [
    {
     "data": {
      "text/html": [
       "<div>\n",
       "<style scoped>\n",
       "    .dataframe tbody tr th:only-of-type {\n",
       "        vertical-align: middle;\n",
       "    }\n",
       "\n",
       "    .dataframe tbody tr th {\n",
       "        vertical-align: top;\n",
       "    }\n",
       "\n",
       "    .dataframe thead th {\n",
       "        text-align: right;\n",
       "    }\n",
       "</style>\n",
       "<table border=\"1\" class=\"dataframe\">\n",
       "  <thead>\n",
       "    <tr style=\"text-align: right;\">\n",
       "      <th></th>\n",
       "      <th>review</th>\n",
       "    </tr>\n",
       "  </thead>\n",
       "  <tbody>\n",
       "    <tr>\n",
       "      <th>0</th>\n",
       "      <td>생각보다 별로인 것</td>\n",
       "    </tr>\n",
       "    <tr>\n",
       "      <th>1</th>\n",
       "      <td>맛잇는데요 ㅎㅎㅎㅎ</td>\n",
       "    </tr>\n",
       "    <tr>\n",
       "      <th>2</th>\n",
       "      <td>매워요 ㅎㅎㅎㅎㅎㅎㅎ</td>\n",
       "    </tr>\n",
       "    <tr>\n",
       "      <th>3</th>\n",
       "      <td>랜덤으로 많이 들은 날도 있고 아닌 날도 있고 ...그르네요 ... 맛있긴 해요</td>\n",
       "    </tr>\n",
       "    <tr>\n",
       "      <th>4</th>\n",
       "      <td>요 또 주문 ㅎㅎㅎ</td>\n",
       "    </tr>\n",
       "    <tr>\n",
       "      <th>...</th>\n",
       "      <td>...</td>\n",
       "    </tr>\n",
       "    <tr>\n",
       "      <th>184</th>\n",
       "      <td>살짝 짜긴 한데 그래도 나트륨양이 너무 높진 않아 괜찮은것 같아요</td>\n",
       "    </tr>\n",
       "    <tr>\n",
       "      <th>185</th>\n",
       "      <td>살짝 짜긴 한데 그래도 나트륨양이 너무 높진 않아 괜찮은것 같아요</td>\n",
       "    </tr>\n",
       "    <tr>\n",
       "      <th>186</th>\n",
       "      <td>살짝 짜긴 한데 그래도 나트륨양이 너무 높진 않아 괜찮은것 같아요</td>\n",
       "    </tr>\n",
       "    <tr>\n",
       "      <th>187</th>\n",
       "      <td>살짝 짜긴 한데 그래도 나트륨양이 너무 높진 않아 괜찮은것 같아요</td>\n",
       "    </tr>\n",
       "    <tr>\n",
       "      <th>188</th>\n",
       "      <td>아들이 운동하면서 자주 먹어요~&lt;br/&gt;\\n훈제가 갈릭보다 더 맛있다네요~</td>\n",
       "    </tr>\n",
       "  </tbody>\n",
       "</table>\n",
       "<p>189 rows × 1 columns</p>\n",
       "</div>"
      ],
      "text/plain": [
       "                                           review\n",
       "0                                      생각보다 별로인 것\n",
       "1                                      맛잇는데요 ㅎㅎㅎㅎ\n",
       "2                                     매워요 ㅎㅎㅎㅎㅎㅎㅎ\n",
       "3    랜덤으로 많이 들은 날도 있고 아닌 날도 있고 ...그르네요 ... 맛있긴 해요\n",
       "4                                      요 또 주문 ㅎㅎㅎ\n",
       "..                                            ...\n",
       "184          살짝 짜긴 한데 그래도 나트륨양이 너무 높진 않아 괜찮은것 같아요\n",
       "185          살짝 짜긴 한데 그래도 나트륨양이 너무 높진 않아 괜찮은것 같아요\n",
       "186          살짝 짜긴 한데 그래도 나트륨양이 너무 높진 않아 괜찮은것 같아요\n",
       "187          살짝 짜긴 한데 그래도 나트륨양이 너무 높진 않아 괜찮은것 같아요\n",
       "188     아들이 운동하면서 자주 먹어요~<br/>\\n훈제가 갈릭보다 더 맛있다네요~\n",
       "\n",
       "[189 rows x 1 columns]"
      ]
     },
     "execution_count": 10,
     "metadata": {},
     "output_type": "execute_result"
    }
   ],
   "source": [
    "# 설정\n",
    "review_url = prodcut_df['product_url'].to_list()[:3] # 3개의 상품만\n",
    "# 한 리뷰 당 몇개의 게시글을 크롤링, 임시로 4페이지까지, 한 페이지당 7개의 리뷰 게시글 확인 \n",
    "page_limit = 10 # 50 개하면 350개리뷰 크롤링\n",
    "kurly_dict = {'review':[]}\n",
    "review_list = []\n",
    "\n",
    "\n",
    "# 1. 280 개 중 1개의 상품주소로 접속\n",
    "for URL in review_url:\n",
    "    \n",
    "    # 2. 해당 상품주소 중 n 개의 리뷰 크롤링\n",
    "    for page_num in range(2, page_limit+1):\n",
    "        if (page_num-1) % 10 == 0:\n",
    "            print('{}번째 페이지 수집 중'.format(seq), time.time() - start, sep = '\\t')\n",
    "\n",
    "        # 페이지에서 게시물 리스트가 포함된 프레임으로 이동\n",
    "        driver.get(URL + str(page_num))\n",
    "    \n",
    "        html = driver.page_source\n",
    "        soup = BeautifulSoup(html, 'html.parser')\n",
    "        contents = soup.select('div.inner_review')\n",
    "\n",
    "        for p_tag in contents:\n",
    "            review = str(p_tag).split(\"</div>\")[-2].strip()\n",
    "            kurly_dict['review'].append(review)\n",
    "        time.sleep(int(np.random.randint(2, 5, size=1))) # 2 ~ 5초 간 랜덤으로 sleep\n",
    "\n",
    "# 3. 데이터프레임 변경\n",
    "Final_df = pd.DataFrame.from_dict(kurly_dict)\n",
    "\n",
    "# 4. 중복된 리뷰 제거\n",
    "Final_df.drop_duplicates(inplace = True)\n",
    "Final_df"
   ]
  },
  {
   "cell_type": "markdown",
   "id": "lovely-helping",
   "metadata": {},
   "source": [
    "- 1) 어떤 상품에 대한 리뷰는 아직 안넣음 -> 넣으면 데이터 용량 커지고.. 분리하는 게 나을듯, 어떤 상품에 대한 리뷰까지 봐야할까?\n",
    "- 2) 그리고 몇개의 리뷰를 넣을지 고민 350개리뷰 * 280개의 상품 = 10만개"
   ]
  },
  {
   "cell_type": "markdown",
   "id": "matched-therapist",
   "metadata": {},
   "source": [
    "# 4. 저장"
   ]
  },
  {
   "cell_type": "code",
   "execution_count": null,
   "id": "driving-elements",
   "metadata": {},
   "outputs": [],
   "source": [
    "# 상품정보\n",
    "prodcut_df.to_csv('product_df.csv', index = False, encoding = 'utf-8-sig')\n",
    "\n",
    "# 상품리뷰\n",
    "Final_df.to_csv('product_df.csv', index = False, encoding = 'utf-8-sig')"
   ]
  }
 ],
 "metadata": {
  "kernelspec": {
   "display_name": "Python 3",
   "language": "python",
   "name": "python3"
  },
  "language_info": {
   "codemirror_mode": {
    "name": "ipython",
    "version": 3
   },
   "file_extension": ".py",
   "mimetype": "text/x-python",
   "name": "python",
   "nbconvert_exporter": "python",
   "pygments_lexer": "ipython3",
   "version": "3.8.5"
  }
 },
 "nbformat": 4,
 "nbformat_minor": 5
}
