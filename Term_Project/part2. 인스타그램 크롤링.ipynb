{
 "cells": [
  {
   "cell_type": "markdown",
   "id": "cloudy-rating",
   "metadata": {},
   "source": [
    "# [Part2] 인스타그램 크롤링"
   ]
  },
  {
   "cell_type": "markdown",
   "id": "yellow-confidentiality",
   "metadata": {},
   "source": [
    "- 설명"
   ]
  },
  {
   "cell_type": "markdown",
   "id": "focused-judge",
   "metadata": {},
   "source": [
    "# 1. 환경 설정"
   ]
  },
  {
   "cell_type": "code",
   "execution_count": 2,
   "id": "assumed-mount",
   "metadata": {},
   "outputs": [],
   "source": [
    "from selenium import webdriver \n",
    "from selenium.webdriver import ActionChains \n",
    "import time\n",
    "from selenium.webdriver.common.by import By\n",
    "import pandas as pd\n",
    "\n",
    "driver = webdriver.Chrome() \n",
    "driver.set_window_size(1500, 800) #브라우저 크기를 414*900으로 설정 \n",
    "\n",
    "# ('https://www.instagram.com/explore/tags/%EB%A7%88%EC%BC%93%EC%BB%AC%EB%A6%AC/')\n",
    "driver.get('https://www.instagram.com/')\n",
    "# dr.get('https://www.instagram.com/') #인스타그램 주소로 웹 오픈 \n",
    "time.sleep(2) #로딩 대기"
   ]
  },
  {
   "cell_type": "markdown",
   "id": "pregnant-fishing",
   "metadata": {},
   "source": [
    "## 설계\n",
    "\n",
    "- 접속\n",
    "- 로그인\n",
    "- 이동\n",
    "- 최근 게시글 클릭\n",
    "- 해당 게시글 내 데이터 수집(작성날짜, 본문내용, 해시태그)\n",
    "- 다음 게시글로 이동\n",
    "- 해당 게시글 반복 수집\n",
    "- 반복(500~1000000?)\n",
    "\n",
    "- 데이터프레임 생성\n",
    "- csv로 저장(작성날짜, 본문내용, 해시태그)\n",
    "\n",
    "- try, except, if, for  활용"
   ]
  },
  {
   "cell_type": "code",
   "execution_count": 4,
   "id": "martial-hamilton",
   "metadata": {
    "collapsed": true
   },
   "outputs": [
    {
     "ename": "NoSuchElementException",
     "evalue": "Message: no such element: Unable to locate element: {\"method\":\"css selector\",\"selector\":\"._9AhH0\"}\n  (Session info: chrome=93.0.4577.82)\n",
     "output_type": "error",
     "traceback": [
      "\u001b[1;31m---------------------------------------------------------------------------\u001b[0m",
      "\u001b[1;31mNoSuchElementException\u001b[0m                    Traceback (most recent call last)",
      "\u001b[1;32m<ipython-input-4-2f4b2d198d9f>\u001b[0m in \u001b[0;36m<module>\u001b[1;34m\u001b[0m\n\u001b[0;32m      4\u001b[0m \u001b[0mdriver\u001b[0m\u001b[1;33m.\u001b[0m\u001b[0mfind_element_by_name\u001b[0m\u001b[1;33m(\u001b[0m\u001b[1;34m'password'\u001b[0m\u001b[1;33m)\u001b[0m\u001b[1;33m.\u001b[0m\u001b[0msend_keys\u001b[0m\u001b[1;33m(\u001b[0m\u001b[0mPW\u001b[0m\u001b[1;33m)\u001b[0m\u001b[1;33m\u001b[0m\u001b[1;33m\u001b[0m\u001b[0m\n\u001b[0;32m      5\u001b[0m \u001b[0mtime\u001b[0m\u001b[1;33m.\u001b[0m\u001b[0msleep\u001b[0m\u001b[1;33m(\u001b[0m\u001b[1;36m1\u001b[0m\u001b[1;33m)\u001b[0m\u001b[1;33m\u001b[0m\u001b[1;33m\u001b[0m\u001b[0m\n\u001b[1;32m----> 6\u001b[1;33m \u001b[0mdriver\u001b[0m\u001b[1;33m.\u001b[0m\u001b[0mfind_element\u001b[0m\u001b[1;33m(\u001b[0m\u001b[0mBy\u001b[0m\u001b[1;33m.\u001b[0m\u001b[0mCLASS_NAME\u001b[0m\u001b[1;33m,\u001b[0m \u001b[1;34m\"_9AhH0\"\u001b[0m\u001b[1;33m)\u001b[0m\u001b[1;33m.\u001b[0m\u001b[0mclick\u001b[0m\u001b[1;33m(\u001b[0m\u001b[1;33m)\u001b[0m\u001b[1;33m\u001b[0m\u001b[1;33m\u001b[0m\u001b[0m\n\u001b[0m",
      "\u001b[1;32m~\\anaconda3\\lib\\site-packages\\selenium\\webdriver\\remote\\webdriver.py\u001b[0m in \u001b[0;36mfind_element\u001b[1;34m(self, by, value)\u001b[0m\n\u001b[0;32m    974\u001b[0m                 \u001b[0mby\u001b[0m \u001b[1;33m=\u001b[0m \u001b[0mBy\u001b[0m\u001b[1;33m.\u001b[0m\u001b[0mCSS_SELECTOR\u001b[0m\u001b[1;33m\u001b[0m\u001b[1;33m\u001b[0m\u001b[0m\n\u001b[0;32m    975\u001b[0m                 \u001b[0mvalue\u001b[0m \u001b[1;33m=\u001b[0m \u001b[1;34m'[name=\"%s\"]'\u001b[0m \u001b[1;33m%\u001b[0m \u001b[0mvalue\u001b[0m\u001b[1;33m\u001b[0m\u001b[1;33m\u001b[0m\u001b[0m\n\u001b[1;32m--> 976\u001b[1;33m         return self.execute(Command.FIND_ELEMENT, {\n\u001b[0m\u001b[0;32m    977\u001b[0m             \u001b[1;34m'using'\u001b[0m\u001b[1;33m:\u001b[0m \u001b[0mby\u001b[0m\u001b[1;33m,\u001b[0m\u001b[1;33m\u001b[0m\u001b[1;33m\u001b[0m\u001b[0m\n\u001b[0;32m    978\u001b[0m             'value': value})['value']\n",
      "\u001b[1;32m~\\anaconda3\\lib\\site-packages\\selenium\\webdriver\\remote\\webdriver.py\u001b[0m in \u001b[0;36mexecute\u001b[1;34m(self, driver_command, params)\u001b[0m\n\u001b[0;32m    319\u001b[0m         \u001b[0mresponse\u001b[0m \u001b[1;33m=\u001b[0m \u001b[0mself\u001b[0m\u001b[1;33m.\u001b[0m\u001b[0mcommand_executor\u001b[0m\u001b[1;33m.\u001b[0m\u001b[0mexecute\u001b[0m\u001b[1;33m(\u001b[0m\u001b[0mdriver_command\u001b[0m\u001b[1;33m,\u001b[0m \u001b[0mparams\u001b[0m\u001b[1;33m)\u001b[0m\u001b[1;33m\u001b[0m\u001b[1;33m\u001b[0m\u001b[0m\n\u001b[0;32m    320\u001b[0m         \u001b[1;32mif\u001b[0m \u001b[0mresponse\u001b[0m\u001b[1;33m:\u001b[0m\u001b[1;33m\u001b[0m\u001b[1;33m\u001b[0m\u001b[0m\n\u001b[1;32m--> 321\u001b[1;33m             \u001b[0mself\u001b[0m\u001b[1;33m.\u001b[0m\u001b[0merror_handler\u001b[0m\u001b[1;33m.\u001b[0m\u001b[0mcheck_response\u001b[0m\u001b[1;33m(\u001b[0m\u001b[0mresponse\u001b[0m\u001b[1;33m)\u001b[0m\u001b[1;33m\u001b[0m\u001b[1;33m\u001b[0m\u001b[0m\n\u001b[0m\u001b[0;32m    322\u001b[0m             response['value'] = self._unwrap_value(\n\u001b[0;32m    323\u001b[0m                 response.get('value', None))\n",
      "\u001b[1;32m~\\anaconda3\\lib\\site-packages\\selenium\\webdriver\\remote\\errorhandler.py\u001b[0m in \u001b[0;36mcheck_response\u001b[1;34m(self, response)\u001b[0m\n\u001b[0;32m    240\u001b[0m                 \u001b[0malert_text\u001b[0m \u001b[1;33m=\u001b[0m \u001b[0mvalue\u001b[0m\u001b[1;33m[\u001b[0m\u001b[1;34m'alert'\u001b[0m\u001b[1;33m]\u001b[0m\u001b[1;33m.\u001b[0m\u001b[0mget\u001b[0m\u001b[1;33m(\u001b[0m\u001b[1;34m'text'\u001b[0m\u001b[1;33m)\u001b[0m\u001b[1;33m\u001b[0m\u001b[1;33m\u001b[0m\u001b[0m\n\u001b[0;32m    241\u001b[0m             \u001b[1;32mraise\u001b[0m \u001b[0mexception_class\u001b[0m\u001b[1;33m(\u001b[0m\u001b[0mmessage\u001b[0m\u001b[1;33m,\u001b[0m \u001b[0mscreen\u001b[0m\u001b[1;33m,\u001b[0m \u001b[0mstacktrace\u001b[0m\u001b[1;33m,\u001b[0m \u001b[0malert_text\u001b[0m\u001b[1;33m)\u001b[0m\u001b[1;33m\u001b[0m\u001b[1;33m\u001b[0m\u001b[0m\n\u001b[1;32m--> 242\u001b[1;33m         \u001b[1;32mraise\u001b[0m \u001b[0mexception_class\u001b[0m\u001b[1;33m(\u001b[0m\u001b[0mmessage\u001b[0m\u001b[1;33m,\u001b[0m \u001b[0mscreen\u001b[0m\u001b[1;33m,\u001b[0m \u001b[0mstacktrace\u001b[0m\u001b[1;33m)\u001b[0m\u001b[1;33m\u001b[0m\u001b[1;33m\u001b[0m\u001b[0m\n\u001b[0m\u001b[0;32m    243\u001b[0m \u001b[1;33m\u001b[0m\u001b[0m\n\u001b[0;32m    244\u001b[0m     \u001b[1;32mdef\u001b[0m \u001b[0m_value_or_default\u001b[0m\u001b[1;33m(\u001b[0m\u001b[0mself\u001b[0m\u001b[1;33m,\u001b[0m \u001b[0mobj\u001b[0m\u001b[1;33m,\u001b[0m \u001b[0mkey\u001b[0m\u001b[1;33m,\u001b[0m \u001b[0mdefault\u001b[0m\u001b[1;33m)\u001b[0m\u001b[1;33m:\u001b[0m\u001b[1;33m\u001b[0m\u001b[1;33m\u001b[0m\u001b[0m\n",
      "\u001b[1;31mNoSuchElementException\u001b[0m: Message: no such element: Unable to locate element: {\"method\":\"css selector\",\"selector\":\"._9AhH0\"}\n  (Session info: chrome=93.0.4577.82)\n"
     ]
    }
   ],
   "source": [
    "ID = 'e_mail114@naver.com'\n",
    "PW = 'rhkwp121!' # 변경\n",
    "driver.find_element(By.CLASS_NAME, \"_2hvTZ.pexuQ.zyHYP\").send_keys(ID)\n",
    "driver.find_element_by_name('password').send_keys(PW)\n",
    "time.sleep(1)\n",
    "driver.find_element(By.CLASS_NAME, \"_9AhH0\").click()"
   ]
  },
  {
   "cell_type": "code",
   "execution_count": 5,
   "id": "metropolitan-journalism",
   "metadata": {},
   "outputs": [],
   "source": [
    "driver.get('https://www.instagram.com/explore/tags/%EB%A7%88%EC%BC%93%EC%BB%AC%EB%A6%AC/') # 마켓컬리로 바로 이동"
   ]
  },
  {
   "cell_type": "code",
   "execution_count": 192,
   "id": "three-utility",
   "metadata": {},
   "outputs": [
    {
     "data": {
      "text/html": [
       "<div>\n",
       "<style scoped>\n",
       "    .dataframe tbody tr th:only-of-type {\n",
       "        vertical-align: middle;\n",
       "    }\n",
       "\n",
       "    .dataframe tbody tr th {\n",
       "        vertical-align: top;\n",
       "    }\n",
       "\n",
       "    .dataframe thead th {\n",
       "        text-align: right;\n",
       "    }\n",
       "</style>\n",
       "<table border=\"1\" class=\"dataframe\">\n",
       "  <thead>\n",
       "    <tr style=\"text-align: right;\">\n",
       "      <th></th>\n",
       "      <th>CONTENT</th>\n",
       "      <th>HASH_TAG</th>\n",
       "    </tr>\n",
       "  </thead>\n",
       "  <tbody>\n",
       "    <tr>\n",
       "      <th>0</th>\n",
       "      <td>sinon_shop\\n:)\\n#고메이494#치킨마크니카레 마켓컬리에 있길래 처음 먹...</td>\n",
       "      <td>#고메이494,#치킨마크니카레</td>\n",
       "    </tr>\n",
       "    <tr>\n",
       "      <th>0</th>\n",
       "      <td>seulll_table\\n-\\n이것은 #다시마국수\\n마켓컬리에서 비빔소스랑 같이 싸...</td>\n",
       "      <td>#다시마국수,#마켓컬리,#슬림다시마국수</td>\n",
       "    </tr>\n",
       "    <tr>\n",
       "      <th>0</th>\n",
       "      <td>nnnnnnu_diet\\n#210910 #점심식단 #누래_샌드위치\\n#누래_점심 :...</td>\n",
       "      <td>#210910,#점심식단,#누래_샌드위치,#누래_점심,#무화과바질샌드위치,#디디...</td>\n",
       "    </tr>\n",
       "    <tr>\n",
       "      <th>0</th>\n",
       "      <td>coolishdong\\nhinok @marketkurly 💜\\n\\n새로운 곳에 입점...</td>\n",
       "      <td>#내돈내산,#마켓컬리,#희녹,#새벽배송,#marketkurly,#monday</td>\n",
       "    </tr>\n",
       "    <tr>\n",
       "      <th>0</th>\n",
       "      <td>bbangsori\\n&lt;21.09.26.Sun&gt; 여러분덜!!!!!!!!! #jmt #...</td>\n",
       "      <td>#jmt,#순대국,#해장용,#마켓컬리,#강창구찹쌀진순대,#순대만순대국,#먹스타그램,...</td>\n",
       "    </tr>\n",
       "    <tr>\n",
       "      <th>0</th>\n",
       "      <td>dinnerqueen\\n이 시국 필수 #마켓컬리존맛밀키트추천\\n\\n멀리 나가서 먹을...</td>\n",
       "      <td>#마켓컬리존맛밀키트추천,#마켓컬리,#마켓컬리추천상품,#마켓컬리밀키트,#금미옥쌀떡볶이...</td>\n",
       "    </tr>\n",
       "    <tr>\n",
       "      <th>0</th>\n",
       "      <td>boongboong2_e\\n#안단잼 으로 완성하는 할매니얼 마스터!👵🏻\\n⠀\\n쳑쳑...</td>\n",
       "      <td>#안단잼,#쑥인절미파운드,#바오담,#저당팥잼,#더베모,#제품제공,#마켓컬리,#온더테...</td>\n",
       "    </tr>\n",
       "  </tbody>\n",
       "</table>\n",
       "</div>"
      ],
      "text/plain": [
       "                                             CONTENT  \\\n",
       "0  sinon_shop\\n:)\\n#고메이494#치킨마크니카레 마켓컬리에 있길래 처음 먹...   \n",
       "0  seulll_table\\n-\\n이것은 #다시마국수\\n마켓컬리에서 비빔소스랑 같이 싸...   \n",
       "0  nnnnnnu_diet\\n#210910 #점심식단 #누래_샌드위치\\n#누래_점심 :...   \n",
       "0  coolishdong\\nhinok @marketkurly 💜\\n\\n새로운 곳에 입점...   \n",
       "0  bbangsori\\n<21.09.26.Sun> 여러분덜!!!!!!!!! #jmt #...   \n",
       "0  dinnerqueen\\n이 시국 필수 #마켓컬리존맛밀키트추천\\n\\n멀리 나가서 먹을...   \n",
       "0  boongboong2_e\\n#안단잼 으로 완성하는 할매니얼 마스터!👵🏻\\n⠀\\n쳑쳑...   \n",
       "\n",
       "                                            HASH_TAG  \n",
       "0                                   #고메이494,#치킨마크니카레  \n",
       "0                              #다시마국수,#마켓컬리,#슬림다시마국수  \n",
       "0  #210910,#점심식단,#누래_샌드위치,#누래_점심,#무화과바질샌드위치,#디디...  \n",
       "0         #내돈내산,#마켓컬리,#희녹,#새벽배송,#marketkurly,#monday  \n",
       "0  #jmt,#순대국,#해장용,#마켓컬리,#강창구찹쌀진순대,#순대만순대국,#먹스타그램,...  \n",
       "0  #마켓컬리존맛밀키트추천,#마켓컬리,#마켓컬리추천상품,#마켓컬리밀키트,#금미옥쌀떡볶이...  \n",
       "0  #안단잼,#쑥인절미파운드,#바오담,#저당팥잼,#더베모,#제품제공,#마켓컬리,#온더테...  "
      ]
     },
     "execution_count": 192,
     "metadata": {},
     "output_type": "execute_result"
    }
   ],
   "source": [
    "## 1. 최근 게시글 클릭\n",
    "driver.find_element(By.CLASS_NAME, \"_9AhH0\").click()\n",
    "time.sleep(2)\n",
    "\n",
    "# 몇개의 게시글을 볼 것인가?\n",
    "count = 10 \n",
    "Final_df = pd.DataFrame()\n",
    "\n",
    "\n",
    "## 2. 크롤링 부분\n",
    "while count != 1:\n",
    "    # 내용 부분\n",
    "    Content = driver.find_elements(By.CLASS_NAME, \"C4VMK\")[0].text\n",
    "    \n",
    "    # 해시태그 부분\n",
    "    HASH_TAG = driver.find_elements(By.CLASS_NAME, \"xil3i\")\n",
    "    tag_list = list()\n",
    "    for i in HASH_TAG:\n",
    "        tag_list.append(i.text)\n",
    "    \n",
    "    # 데이터 프레임\n",
    "    total_df = pd.DataFrame({\"CONTENT\" : Content, \"HASH_TAG\" : tag_list})\n",
    "    total_df = total_df.groupby('CONTENT')['HASH_TAG'].agg(lambda col: ','.join(col))\n",
    "    new_df = pd.DataFrame(total_df).reset_index()\n",
    "    \n",
    "    # 병합\n",
    "    Final_df = pd.concat([Final_df,new_df], axis =0)\n",
    "\n",
    "    # 3. 다음 페이지로 넘어가기\n",
    "    driver.find_element(By.CLASS_NAME, \"_65Bje\").click()\n",
    "    count-=1\n",
    "    time.sleep(1)\n",
    "\n",
    "Final_df # 텍스트 전처리 필요"
   ]
  },
  {
   "cell_type": "code",
   "execution_count": 194,
   "id": "immune-tuition",
   "metadata": {},
   "outputs": [
    {
     "data": {
      "text/plain": [
       "'sinon_shop\\n:)\\n#고메이494#치킨마크니카레 마켓컬리에 있길래 처음 먹었는데요!! 고형이고 뭐고 한동안 이것만 먹을듯싶네요👍🏻👍🏻\\n-\\n-\\n2일'"
      ]
     },
     "execution_count": 194,
     "metadata": {},
     "output_type": "execute_result"
    }
   ],
   "source": [
    "Final_df['CONTENT'].values[0]\n",
    "Final_df['HASH_TAG'].values[0]"
   ]
  },
  {
   "cell_type": "code",
   "execution_count": 6,
   "id": "adjustable-mixer",
   "metadata": {},
   "outputs": [],
   "source": [
    "##데이터를 저장할 Dictionary\n",
    "insta_dict = {'id':[],\n",
    "              'date': [],\n",
    "              'like': [],\n",
    "              'text': [],\n",
    "              'hashtag':[]}\n",
    " \n",
    "# 첫 번째 게시물 클릭 \n",
    "driver.find_element(By.CLASS_NAME, \"_9AhH0\").click()"
   ]
  },
  {
   "cell_type": "code",
   "execution_count": 7,
   "id": "unusual-humor",
   "metadata": {},
   "outputs": [
    {
     "name": "stdout",
     "output_type": "stream",
     "text": [
      "0번째 수집 중\t0.016951322555541992\n",
      "20번째 수집 중\t36.71136212348938\n",
      "40번째 수집 중\t73.62219786643982\n",
      "60번째 수집 중\t114.65969038009644\n",
      "80번째 수집 중\t153.93152809143066\n"
     ]
    }
   ],
   "source": [
    "seq = 0\n",
    "start = time.time()\n",
    " \n",
    "while True:\n",
    "    try:\n",
    "        if driver.find_element_by_css_selector('a._65Bje.coreSpriteRightPaginationArrow'):\n",
    "            if seq % 20 == 0:\n",
    "                print('{}번째 수집 중'.format(seq), time.time() - start, sep = '\\t')\n",
    " \n",
    " \n",
    " \n",
    "            ## id 정보 수집\n",
    "            try:\n",
    "                info_id = driver.find_element_by_css_selector('h2._6lAjh').text\n",
    "                insta_dict['id'].append(info_id)\n",
    "            except:\n",
    "                info_id = driver.find_element_by_css_selector('div.C4VMK').text.split()[0]\n",
    "                insta_dict['id'].append(info_id)\n",
    " \n",
    " \n",
    "            ## 시간정보 수집 \n",
    "            time_raw = driver.find_element_by_css_selector('time.FH9sR.Nzb55')\n",
    "            time_info = pd.to_datetime(time_raw.get_attribute('datetime')).normalize()\n",
    "            insta_dict['date'].append(time_info)\n",
    " \n",
    "            ## like 정보 수집\n",
    "            try:\n",
    "                driver.find_element_by_css_selector('button.sqdOP.yWX7d._8A5w5')\n",
    "                like = driver.find_element_by_css_selector('button.sqdOP.yWX7d._8A5w5').text\n",
    "                insta_dict['like'].append(like)\n",
    " \n",
    "            except:\n",
    "                insta_dict['like'].append('영상')\n",
    " \n",
    " \n",
    " \n",
    "            ##text 정보수집\n",
    "            raw_info = driver.find_element_by_css_selector('div.C4VMK').text.split()\n",
    "            text = []\n",
    "            for i in range(len(raw_info)):\n",
    "                ## 첫번째 text는 아이디니까 제외 \n",
    "                if i == 0:\n",
    "                    pass\n",
    "                ## 두번째부터 시작 \n",
    "                else:\n",
    "                    if '#' in raw_info[i]:\n",
    "                        pass\n",
    "                    else:\n",
    "                        text.append(raw_info[i])\n",
    "            clean_text = ' '.join(text)\n",
    "            insta_dict['text'].append(clean_text)\n",
    " \n",
    "            ##hashtag 수집\n",
    "            raw_tags = driver.find_elements_by_css_selector('a.xil3i')\n",
    "            hash_tag = []\n",
    "            for i in range(len(raw_tags)):\n",
    "                if raw_tags[i].text == '':\n",
    "                    pass\n",
    "                else:\n",
    "                    hash_tag.append(raw_tags[i].text)\n",
    " \n",
    "            insta_dict['hashtag'].append(hash_tag)\n",
    " \n",
    "            seq += 1\n",
    " \n",
    "            if seq == 100:\n",
    "                break\n",
    " \n",
    "            driver.find_element_by_css_selector('a._65Bje.coreSpriteRightPaginationArrow').click()\n",
    "            time.sleep(1.5)\n",
    "            \n",
    " \n",
    "        else:\n",
    "            break\n",
    "            \n",
    "    except:\n",
    "        driver.find_element_by_css_selector('a._65Bje.coreSpriteRightPaginationArrow').click()\n",
    "        time.sleep(2)"
   ]
  },
  {
   "cell_type": "code",
   "execution_count": 8,
   "id": "demanding-terror",
   "metadata": {},
   "outputs": [],
   "source": [
    "Final_df = pd.DataFrame.from_dict(insta_dict) \n",
    "Final_df.head()"
   ]
  },
  {
   "cell_type": "code",
   "execution_count": 11,
   "id": "difficult-lafayette",
   "metadata": {},
   "outputs": [],
   "source": [
    "Final_df.to_csv('instagram_crawler.csv', index = False, encoding = 'utf-8-sig')"
   ]
  }
 ],
 "metadata": {
  "kernelspec": {
   "display_name": "Python 3",
   "language": "python",
   "name": "python3"
  },
  "language_info": {
   "codemirror_mode": {
    "name": "ipython",
    "version": 3
   },
   "file_extension": ".py",
   "mimetype": "text/x-python",
   "name": "python",
   "nbconvert_exporter": "python",
   "pygments_lexer": "ipython3",
   "version": "3.8.5"
  }
 },
 "nbformat": 4,
 "nbformat_minor": 5
}
