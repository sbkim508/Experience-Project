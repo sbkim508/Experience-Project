{
 "cells": [
  {
   "cell_type": "markdown",
   "id": "civilian-header",
   "metadata": {},
   "source": [
    "# 1. 환경 설정"
   ]
  },
  {
   "cell_type": "markdown",
   "id": "academic-vacuum",
   "metadata": {},
   "source": [
    "- 최근 게시글 기준 760 개 정도 수집이 되지 않았음.\n",
    "- 접속 -> 로그인 -> 이동 -> 최근 게시글 클릭\n",
    "- 해당 게시글 내 데이터 수집(작성날짜, 본문내용, 해시태그)\n",
    "- 다음 게시글로 이동 -> 해당 게시글 반복 수집\n",
    "- 반복 \n",
    "- 데이터프레임 생성\n",
    "- csv로 저장(작성날짜, 본문내용, 해시태그)"
   ]
  },
  {
   "cell_type": "code",
   "execution_count": 1,
   "id": "spatial-guitar",
   "metadata": {},
   "outputs": [],
   "source": [
    "from selenium import webdriver \n",
    "from selenium.webdriver import ActionChains \n",
    "import time\n",
    "from selenium.webdriver.common.by import By\n",
    "import pandas as pd\n",
    "\n",
    "driver = webdriver.Chrome() \n",
    "driver.set_window_size(1500, 800)\n",
    "\n",
    "driver.get('https://www.instagram.com/')\n",
    "time.sleep(2)"
   ]
  },
  {
   "cell_type": "code",
   "execution_count": null,
   "id": "wound-simpson",
   "metadata": {},
   "outputs": [],
   "source": [
    "ID = 'ID'\n",
    "PW = 'PW' # 변경\n",
    "driver.find_element(By.CLASS_NAME, \"_2hvTZ.pexuQ.zyHYP\").send_keys(ID)\n",
    "driver.find_element_by_name('password').send_keys(PW)\n",
    "time.sleep(1)\n",
    "driver.find_element(By.CLASS_NAME, \"_9AhH0\").click()"
   ]
  },
  {
   "cell_type": "code",
   "execution_count": null,
   "id": "communist-chick",
   "metadata": {},
   "outputs": [],
   "source": [
    "# 관심 키워드의 인코딩된 주소 값을 여기에 직접 복사.\n",
    "driver.get('https://www.instagram.com/explore/tags/%EB%A7%88%EC%BC%93%EC%BB%AC%EB%A6%AC/')\n",
    "time.sleep(2) #로딩 대기"
   ]
  },
  {
   "cell_type": "code",
   "execution_count": 4,
   "id": "opening-jamaica",
   "metadata": {},
   "outputs": [
    {
     "ename": "IndexError",
     "evalue": "list index out of range",
     "output_type": "error",
     "traceback": [
      "\u001b[1;31m---------------------------------------------------------------------------\u001b[0m",
      "\u001b[1;31mIndexError\u001b[0m                                Traceback (most recent call last)",
      "\u001b[1;32m<ipython-input-4-60e8d09b26c7>\u001b[0m in \u001b[0;36m<module>\u001b[1;34m\u001b[0m\n\u001b[0;32m     11\u001b[0m \u001b[1;32mwhile\u001b[0m \u001b[0mcount\u001b[0m \u001b[1;33m!=\u001b[0m \u001b[1;36m1\u001b[0m\u001b[1;33m:\u001b[0m\u001b[1;33m\u001b[0m\u001b[1;33m\u001b[0m\u001b[0m\n\u001b[0;32m     12\u001b[0m     \u001b[1;31m# 내용 부분\u001b[0m\u001b[1;33m\u001b[0m\u001b[1;33m\u001b[0m\u001b[1;33m\u001b[0m\u001b[0m\n\u001b[1;32m---> 13\u001b[1;33m     \u001b[0mContent\u001b[0m \u001b[1;33m=\u001b[0m \u001b[0mdriver\u001b[0m\u001b[1;33m.\u001b[0m\u001b[0mfind_elements\u001b[0m\u001b[1;33m(\u001b[0m\u001b[0mBy\u001b[0m\u001b[1;33m.\u001b[0m\u001b[0mCLASS_NAME\u001b[0m\u001b[1;33m,\u001b[0m \u001b[1;34m\"C4VMK\"\u001b[0m\u001b[1;33m)\u001b[0m\u001b[1;33m[\u001b[0m\u001b[1;36m0\u001b[0m\u001b[1;33m]\u001b[0m\u001b[1;33m.\u001b[0m\u001b[0mtext\u001b[0m\u001b[1;33m\u001b[0m\u001b[1;33m\u001b[0m\u001b[0m\n\u001b[0m\u001b[0;32m     14\u001b[0m \u001b[1;33m\u001b[0m\u001b[0m\n\u001b[0;32m     15\u001b[0m     \u001b[1;31m# 해시태그 부분\u001b[0m\u001b[1;33m\u001b[0m\u001b[1;33m\u001b[0m\u001b[1;33m\u001b[0m\u001b[0m\n",
      "\u001b[1;31mIndexError\u001b[0m: list index out of range"
     ]
    }
   ],
   "source": [
    "## 1. 최근 게시글 클릭\n",
    "driver.find_element(By.CLASS_NAME, \"_9AhH0\").click()\n",
    "time.sleep(2)\n",
    "\n",
    "# 몇개의 게시글을 볼 것인가?\n",
    "count = 10 \n",
    "Final_df = pd.DataFrame()\n",
    "\n",
    "\n",
    "## 2. 크롤링 부분\n",
    "while count != 1:\n",
    "    # 내용 부분\n",
    "    Content = driver.find_elements(By.CLASS_NAME, \"C4VMK\")[0].text\n",
    "    \n",
    "    # 해시태그 부분\n",
    "    HASH_TAG = driver.find_elements(By.CLASS_NAME, \"xil3i\")\n",
    "    tag_list = list()\n",
    "    for i in HASH_TAG:\n",
    "        tag_list.append(i.text)\n",
    "    \n",
    "    # 데이터 프레임\n",
    "    total_df = pd.DataFrame({\"CONTENT\" : Content, \"HASH_TAG\" : tag_list})\n",
    "    total_df = total_df.groupby('CONTENT')['HASH_TAG'].agg(lambda col: ','.join(col))\n",
    "    new_df = pd.DataFrame(total_df).reset_index()\n",
    "    \n",
    "    # 병합\n",
    "    Final_df = pd.concat([Final_df,new_df], axis =0)\n",
    "\n",
    "    # 3. 다음 페이지로 넘어가기\n",
    "    driver.find_element(By.CLASS_NAME, \"_65Bje\").click()\n",
    "    count-=1\n",
    "    time.sleep(1)\n",
    "\n",
    "Final_df # 텍스트 전처리 필요"
   ]
  },
  {
   "cell_type": "code",
   "execution_count": 194,
   "id": "tired-picture",
   "metadata": {},
   "outputs": [
    {
     "data": {
      "text/plain": [
       "'sinon_shop\\n:)\\n#고메이494#치킨마크니카레 마켓컬리에 있길래 처음 먹었는데요!! 고형이고 뭐고 한동안 이것만 먹을듯싶네요👍🏻👍🏻\\n-\\n-\\n2일'"
      ]
     },
     "execution_count": 194,
     "metadata": {},
     "output_type": "execute_result"
    }
   ],
   "source": [
    "Final_df['CONTENT'].values[0]\n",
    "Final_df['HASH_TAG'].values[0]"
   ]
  },
  {
   "cell_type": "code",
   "execution_count": 6,
   "id": "inside-swimming",
   "metadata": {},
   "outputs": [],
   "source": [
    "##데이터를 저장할 Dictionary\n",
    "insta_dict = {'id':[],\n",
    "              'date': [],\n",
    "              'like': [],\n",
    "              'text': [],\n",
    "              'hashtag':[]}\n",
    " \n",
    "# 첫 번째 게시물 클릭 \n",
    "driver.find_element(By.CLASS_NAME, \"_9AhH0\").click()"
   ]
  },
  {
   "cell_type": "code",
   "execution_count": 7,
   "id": "viral-season",
   "metadata": {},
   "outputs": [
    {
     "name": "stdout",
     "output_type": "stream",
     "text": [
      "0번째 수집 중\t0.016951322555541992\n",
      "20번째 수집 중\t36.71136212348938\n",
      "40번째 수집 중\t73.62219786643982\n",
      "60번째 수집 중\t114.65969038009644\n",
      "80번째 수집 중\t153.93152809143066\n"
     ]
    }
   ],
   "source": [
    "seq = 0\n",
    "start = time.time()\n",
    " \n",
    "while True:\n",
    "    try:\n",
    "        if driver.find_element_by_css_selector('a._65Bje.coreSpriteRightPaginationArrow'):\n",
    "            if seq % 20 == 0:\n",
    "                print('{}번째 수집 중'.format(seq), time.time() - start, sep = '\\t')\n",
    " \n",
    " \n",
    " \n",
    "            ## id 정보 수집\n",
    "            try:\n",
    "                info_id = driver.find_element_by_css_selector('h2._6lAjh').text\n",
    "                insta_dict['id'].append(info_id)\n",
    "            except:\n",
    "                info_id = driver.find_element_by_css_selector('div.C4VMK').text.split()[0]\n",
    "                insta_dict['id'].append(info_id)\n",
    " \n",
    " \n",
    "            ## 시간정보 수집 \n",
    "            time_raw = driver.find_element_by_css_selector('time.FH9sR.Nzb55')\n",
    "            time_info = pd.to_datetime(time_raw.get_attribute('datetime')).normalize()\n",
    "            insta_dict['date'].append(time_info)\n",
    " \n",
    "            ## like 정보 수집\n",
    "            try:\n",
    "                driver.find_element_by_css_selector('button.sqdOP.yWX7d._8A5w5')\n",
    "                like = driver.find_element_by_css_selector('button.sqdOP.yWX7d._8A5w5').text\n",
    "                insta_dict['like'].append(like)\n",
    " \n",
    "            except:\n",
    "                insta_dict['like'].append('영상')\n",
    " \n",
    " \n",
    " \n",
    "            ##text 정보수집\n",
    "            raw_info = driver.find_element_by_css_selector('div.C4VMK').text.split()\n",
    "            text = []\n",
    "            for i in range(len(raw_info)):\n",
    "                ## 첫번째 text는 아이디니까 제외 \n",
    "                if i == 0:\n",
    "                    pass\n",
    "                ## 두번째부터 시작 \n",
    "                else:\n",
    "                    if '#' in raw_info[i]:\n",
    "                        pass\n",
    "                    else:\n",
    "                        text.append(raw_info[i])\n",
    "            clean_text = ' '.join(text)\n",
    "            insta_dict['text'].append(clean_text)\n",
    " \n",
    "            ##hashtag 수집\n",
    "            raw_tags = driver.find_elements_by_css_selector('a.xil3i')\n",
    "            hash_tag = []\n",
    "            for i in range(len(raw_tags)):\n",
    "                if raw_tags[i].text == '':\n",
    "                    pass\n",
    "                else:\n",
    "                    hash_tag.append(raw_tags[i].text)\n",
    " \n",
    "            insta_dict['hashtag'].append(hash_tag)\n",
    " \n",
    "            seq += 1\n",
    " \n",
    "            if seq == 100:\n",
    "                break\n",
    " \n",
    "            driver.find_element_by_css_selector('a._65Bje.coreSpriteRightPaginationArrow').click()\n",
    "            time.sleep(1.5)\n",
    "            \n",
    " \n",
    "        else:\n",
    "            break\n",
    "            \n",
    "    except:\n",
    "        driver.find_element_by_css_selector('a._65Bje.coreSpriteRightPaginationArrow').click()\n",
    "        time.sleep(2)"
   ]
  },
  {
   "cell_type": "code",
   "execution_count": 8,
   "id": "sitting-render",
   "metadata": {},
   "outputs": [],
   "source": [
    "Final_df = pd.DataFrame.from_dict(insta_dict) \n",
    "Final_df.head()"
   ]
  },
  {
   "cell_type": "code",
   "execution_count": 11,
   "id": "inclusive-dispute",
   "metadata": {},
   "outputs": [],
   "source": [
    "Final_df.to_csv('instagram_crawler.csv', index = False, encoding = 'utf-8-sig')"
   ]
  }
 ],
 "metadata": {
  "kernelspec": {
   "display_name": "Python 3",
   "language": "python",
   "name": "python3"
  },
  "language_info": {
   "codemirror_mode": {
    "name": "ipython",
    "version": 3
   },
   "file_extension": ".py",
   "mimetype": "text/x-python",
   "name": "python",
   "nbconvert_exporter": "python",
   "pygments_lexer": "ipython3",
   "version": "3.8.5"
  }
 },
 "nbformat": 4,
 "nbformat_minor": 5
}
